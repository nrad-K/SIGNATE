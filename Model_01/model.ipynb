{
 "cells": [
  {
   "cell_type": "code",
   "execution_count": 115,
   "metadata": {},
   "outputs": [
    {
     "name": "stdout",
     "output_type": "stream",
     "text": [
      "train_model _score:0.8376470588235294\n"
     ]
    },
    {
     "name": "stderr",
     "output_type": "stream",
     "text": [
      "/Users/okadakouki/opt/anaconda3/lib/python3.7/site-packages/sklearn/model_selection/_split.py:1978: FutureWarning: The default value of cv will change from 3 to 5 in version 0.22. Specify it explicitly to silence this warning.\n",
      "  warnings.warn(CV_WARNING, FutureWarning)\n"
     ]
    },
    {
     "name": "stdout",
     "output_type": "stream",
     "text": [
      "{'alpha': 0.001, 'loss': 'hinge', 'max_iter': 10000, 'penalty': 'l1'}\n",
      "SGDClassifier(alpha=0.001, average=False, class_weight=None,\n",
      "              early_stopping=False, epsilon=0.1, eta0=0.0, fit_intercept=True,\n",
      "              l1_ratio=0.15, learning_rate='optimal', loss='hinge',\n",
      "              max_iter=10000, n_iter_no_change=5, n_jobs=None, penalty='l1',\n",
      "              power_t=0.5, random_state=None, shuffle=True, tol=0.001,\n",
      "              validation_fraction=0.1, verbose=0, warm_start=False)\n",
      "train_model _score:0.8541176470588235\n"
     ]
    }
   ],
   "source": [
    "import numpy as np\n",
    "import pandas as pd\n",
    "\n",
    "import os\n",
    "import random\n",
    "\n",
    "def reset_seed(seed=0):\n",
    "\n",
    "    os.environ['PYTHONHASHSEED'] = '0'\n",
    "    random.seed(seed) #　random関数のシードを固定\n",
    "    np.random.seed(seed) #numpyのシードを固定\n",
    "    \n",
    "reset_seed(0)\n",
    "\n",
    "\n",
    "df_train = pd.read_csv(\"./datasets/train.csv\").replace(\"Male\", 0).replace(\"Female\", 1)\n",
    "df_test = pd.read_csv(\"./datasets/test.csv\").replace(\"Male\", 0).replace(\"Female\", 1)\n",
    "\n",
    "X_train = df_train.drop(columns=\"disease\", axis=1).values\n",
    "y_train = df_train[\"disease\"].values\n",
    "X_test = df_test.values\n",
    "\n",
    "from sklearn.preprocessing import StandardScaler\n",
    "sc=StandardScaler()\n",
    "sc.fit(X_train)\n",
    "X_train=sc.transform(X_train)\n",
    "sc.fit(X_test)\n",
    "X_test=sc.transform(X_test)\n",
    "\n",
    "from sklearn.linear_model import SGDClassifier\n",
    "model = SGDClassifier(loss=\"hinge\")\n",
    "model.fit(X_train, y_train)\n",
    "print(f\"train_model _score:{model.score(X_train, y_train)}\")\n",
    "\n",
    "from sklearn.model_selection import GridSearchCV\n",
    "params = {\"loss\":[\"hinge\", \"log\", \"modified_huber\"], \"penalty\":[\"l2\", \"l1\"], \"alpha\":[1, 0.1, 0.01, 0.001, 0.0001], \"max_iter\":[1000, 10000, 100000]}\n",
    "grid_search = GridSearchCV(model, params)\n",
    "grid_search.fit(X_train, y_train)\n",
    "\n",
    "print(grid_search.best_params_ ) \n",
    "print(grid_search.best_estimator_)\n",
    "\n",
    "best_model = SGDClassifier(loss=\"hinge\", alpha=0.0001, penalty=\"l1\", max_iter=10000)\n",
    "best_model.fit(X_train, y_train)\n",
    "pred = best_model.predict(X_test)\n",
    "\n",
    "print(f\"train_model _score:{best_model.score(X_train, y_train)}\")\n",
    "\n",
    "sample = pd.read_csv(\"./datasets/sample_submit.csv\", header = None)\n",
    "sample[2] = pred\n",
    "sample.to_csv(\"submit1.csv\", index = None, header = None)\n",
    "\n"
   ]
  },
  {
   "cell_type": "code",
   "execution_count": null,
   "metadata": {},
   "outputs": [],
   "source": []
  }
 ],
 "metadata": {
  "kernelspec": {
   "display_name": "Python 3",
   "language": "python",
   "name": "python3"
  },
  "language_info": {
   "codemirror_mode": {
    "name": "ipython",
    "version": 3
   },
   "file_extension": ".py",
   "mimetype": "text/x-python",
   "name": "python",
   "nbconvert_exporter": "python",
   "pygments_lexer": "ipython3",
   "version": "3.7.6"
  }
 },
 "nbformat": 4,
 "nbformat_minor": 4
}
